{
 "cells": [
  {
   "cell_type": "code",
   "execution_count": 1,
   "metadata": {},
   "outputs": [
    {
     "name": "stdout",
     "output_type": "stream",
     "text": [
      "Pakistan zindabadad\n",
      "we are pakistani\n"
     ]
    }
   ],
   "source": [
    "print(\"Pakistan zindabadad\")\n",
    "print(\"we are pakistani\")\n"
   ]
  },
  {
   "cell_type": "code",
   "execution_count": null,
   "metadata": {},
   "outputs": [],
   "source": [
    "print(\"Hello world\")\n"
   ]
  },
  {
   "cell_type": "markdown",
   "metadata": {},
   "source": [
    "# Bahria university Islamabad\n",
    "- 12:15 to 03:15"
   ]
  },
  {
   "cell_type": "raw",
   "metadata": {},
   "source": [
    "function abc (a, b){\n",
    "    return a + b;\n",
    "name }"
   ]
  },
  {
   "cell_type": "code",
   "execution_count": 4,
   "metadata": {},
   "outputs": [
    {
     "name": "stdout",
     "output_type": "stream",
     "text": [
      "\n",
      "PIAIC ISLAMABAD BATCH3\n",
      "name : Ali\n",
      "father_Name: Muhammad \n",
      "uni: Bahria University Islamabad\n",
      "\n"
     ]
    }
   ],
   "source": [
    "name = \"Ali\"\n",
    "father_name = \"Muhammad\"\n",
    "uni = \"Bahria University Islamabad\"\n",
    "\n",
    "message = \"\"\"\n",
    "PIAIC ISLAMABAD BATCH3\n",
    "name : {}\n",
    "father_Name: {} \n",
    "uni: {}\n",
    "\"\"\"\n",
    "message1 = message.format(name, father_name, uni) \n",
    "\n",
    "print(message1)"
   ]
  },
  {
   "cell_type": "code",
   "execution_count": null,
   "metadata": {},
   "outputs": [],
   "source": [
    "name = input(\"Enter your name:\")\n",
    "father_name = input(\"Enter your Father's name:\")\n",
    "uni = input(\"Bahria University Islamabad:\")\n",
    "\n",
    "message = \"\"\"\n",
    "PIAIC ISLAMABAD BATCH3\n",
    "name : {}\n",
    "father_Name: {} \n",
    "uni: {}\n",
    "\"\"\"\n",
    "message1 = message.format(name, father_name, uni) \n",
    "\n",
    "print(message1)"
   ]
  },
  {
   "cell_type": "code",
   "execution_count": 9,
   "metadata": {},
   "outputs": [
    {
     "name": "stdout",
     "output_type": "stream",
     "text": [
      "enter marks for math55\n",
      "enter marks for eng77\n",
      "enter marks for urdu88\n",
      "enter marks for Isla66\n",
      "enter marks for SS55\n",
      "6820.0\n"
     ]
    }
   ],
   "source": [
    "Math=input(\"enter marks for math\")\n",
    "Eng=input(\"enter marks for eng\")\n",
    "Urdu=input(\"enter marks for urdu\")\n",
    "Islm=input(\"enter marks for Isla\")\n",
    "SS=input(\"enter marks for SS\")\n",
    "\n",
    "Total_Marks = (int(Math)+int(Eng)+int(Urdu)+int(Islm)+int(SS))\n",
    "Marks \n",
    "Percentage = (((Total_Marks)/5)*100)\n",
    "print(Percentage)"
   ]
  },
  {
   "cell_type": "markdown",
   "metadata": {},
   "source": [
    "###### all videos of Github \n",
    "all work on Git push and share URL on group\n",
    "www.python.org  Documentation details >totorial\n",
    "5 predefined function need to explorer on documentation and share on Git\n"
   ]
  },
  {
   "cell_type": "code",
   "execution_count": 10,
   "metadata": {},
   "outputs": [],
   "source": [
    "?print"
   ]
  },
  {
   "cell_type": "markdown",
   "metadata": {},
   "source": [
    "# Class Dated 24 Nov 2019"
   ]
  },
  {
   "cell_type": "code",
   "execution_count": 1,
   "metadata": {},
   "outputs": [
    {
     "name": "stdout",
     "output_type": "stream",
     "text": [
      "The Zen of Python, by Tim Peters\n",
      "\n",
      "Beautiful is better than ugly.\n",
      "Explicit is better than implicit.\n",
      "Simple is better than complex.\n",
      "Complex is better than complicated.\n",
      "Flat is better than nested.\n",
      "Sparse is better than dense.\n",
      "Readability counts.\n",
      "Special cases aren't special enough to break the rules.\n",
      "Although practicality beats purity.\n",
      "Errors should never pass silently.\n",
      "Unless explicitly silenced.\n",
      "In the face of ambiguity, refuse the temptation to guess.\n",
      "There should be one-- and preferably only one --obvious way to do it.\n",
      "Although that way may not be obvious at first unless you're Dutch.\n",
      "Now is better than never.\n",
      "Although never is often better than *right* now.\n",
      "If the implementation is hard to explain, it's a bad idea.\n",
      "If the implementation is easy to explain, it may be a good idea.\n",
      "Namespaces are one honking great idea -- let's do more of those!\n"
     ]
    }
   ],
   "source": [
    "import this"
   ]
  },
  {
   "cell_type": "code",
   "execution_count": 2,
   "metadata": {},
   "outputs": [
    {
     "data": {
      "text/plain": [
       "13"
      ]
     },
     "execution_count": 2,
     "metadata": {},
     "output_type": "execute_result"
    }
   ],
   "source": [
    "5 + 8 # Operation\n",
    "\n",
    "#Operators\n",
    "    #1 +, - , / , * , % ,** Operators\n",
    "    # = , +=, -=, /=, *=, %=\n",
    "    #== , >, <, >=, <=\n",
    "# 5, 8 oprands"
   ]
  },
  {
   "cell_type": "code",
   "execution_count": null,
   "metadata": {},
   "outputs": [],
   "source": [
    "#PEMDAS\n",
    "\n",
    "5 + 7 - 8 * (2/2) + 200\n",
    "#5 + 7 - 8 * 1 + 200\n",
    "#5 + 7 - 8 + 200\n",
    "#212-8\n",
    "#204"
   ]
  },
  {
   "cell_type": "markdown",
   "metadata": {},
   "source": [
    "# Homework\n",
    " \n",
    "Creat two equation which has 20 Operands and has different operators \n",
    "which has all basic operators and that equate manually and automatically\n"
   ]
  },
  {
   "cell_type": "code",
   "execution_count": 12,
   "metadata": {},
   "outputs": [
    {
     "name": "stdout",
     "output_type": "stream",
     "text": [
      "8\n",
      "8\n",
      "140716840054752\n",
      "140716840054752\n"
     ]
    }
   ],
   "source": [
    "a = 8\n",
    "b = 8 \n",
    "print (a)\n",
    "print (b)\n",
    "\n",
    "print(id(a))\n",
    "print(id(b))"
   ]
  },
  {
   "cell_type": "markdown",
   "metadata": {},
   "source": [
    "##Class notes\n",
    "\n",
    "Two ruls of copying data\n",
    "1. Shallow copy (Only copying reference is shallow copy)\n",
    "2. Deep Copy ( reassigining the values)\n",
    "\n",
    "\n",
    "\n",
    "\n",
    "\n",
    "\n"
   ]
  },
  {
   "cell_type": "code",
   "execution_count": 13,
   "metadata": {},
   "outputs": [
    {
     "data": {
      "text/plain": [
       "int"
      ]
     },
     "execution_count": 13,
     "metadata": {},
     "output_type": "execute_result"
    }
   ],
   "source": [
    "#Data Types\n",
    "\n",
    "a = 7 \n",
    "type(a)"
   ]
  },
  {
   "cell_type": "code",
   "execution_count": 14,
   "metadata": {},
   "outputs": [
    {
     "data": {
      "text/plain": [
       "float"
      ]
     },
     "execution_count": 14,
     "metadata": {},
     "output_type": "execute_result"
    }
   ],
   "source": [
    "a = 20.7\n",
    "type(a)"
   ]
  },
  {
   "cell_type": "code",
   "execution_count": 15,
   "metadata": {},
   "outputs": [
    {
     "data": {
      "text/plain": [
       "bool"
      ]
     },
     "execution_count": 15,
     "metadata": {},
     "output_type": "execute_result"
    }
   ],
   "source": [
    "a = False\n",
    "type(a)"
   ]
  },
  {
   "cell_type": "code",
   "execution_count": 16,
   "metadata": {},
   "outputs": [
    {
     "data": {
      "text/plain": [
       "str"
      ]
     },
     "execution_count": 16,
     "metadata": {},
     "output_type": "execute_result"
    }
   ],
   "source": [
    "a = \"S\"\n",
    "type(a)"
   ]
  },
  {
   "cell_type": "code",
   "execution_count": 17,
   "metadata": {},
   "outputs": [
    {
     "data": {
      "text/plain": [
       "str"
      ]
     },
     "execution_count": 17,
     "metadata": {},
     "output_type": "execute_result"
    }
   ],
   "source": [
    "a = 'k'\n",
    "type(a)"
   ]
  },
  {
   "cell_type": "code",
   "execution_count": 18,
   "metadata": {},
   "outputs": [
    {
     "data": {
      "text/plain": [
       "'11'"
      ]
     },
     "execution_count": 18,
     "metadata": {},
     "output_type": "execute_result"
    }
   ],
   "source": [
    "'1' + \"1\""
   ]
  },
  {
   "cell_type": "code",
   "execution_count": 21,
   "metadata": {},
   "outputs": [
    {
     "data": {
      "text/plain": [
       "2"
      ]
     },
     "execution_count": 21,
     "metadata": {},
     "output_type": "execute_result"
    }
   ],
   "source": [
    "#Type Casting\n",
    "int(\"1\") + int('1')"
   ]
  },
  {
   "cell_type": "code",
   "execution_count": null,
   "metadata": {},
   "outputs": [],
   "source": [
    "implecit (what compiler do)\n",
    "explecit (what user do)\n"
   ]
  },
  {
   "cell_type": "code",
   "execution_count": null,
   "metadata": {},
   "outputs": [],
   "source": [
    "'1' + 7 (this is wrong as the data type is differnet for both so this should be same for both data type)"
   ]
  },
  {
   "cell_type": "code",
   "execution_count": 23,
   "metadata": {},
   "outputs": [
    {
     "data": {
      "text/plain": [
       "'pakistan pakistan '"
      ]
     },
     "execution_count": 23,
     "metadata": {},
     "output_type": "execute_result"
    }
   ],
   "source": [
    "a = \"pakistan \"\n",
    "a*2"
   ]
  },
  {
   "cell_type": "code",
   "execution_count": 24,
   "metadata": {},
   "outputs": [
    {
     "name": "stdout",
     "output_type": "stream",
     "text": [
      "<class 'list'>\n"
     ]
    }
   ],
   "source": [
    "#Data Type : List\n",
    "\n",
    "names = ['Ali', 'Shabi', 'Shabi', 200]\n",
    "print(type(names))"
   ]
  },
  {
   "cell_type": "code",
   "execution_count": 25,
   "metadata": {},
   "outputs": [
    {
     "name": "stdout",
     "output_type": "stream",
     "text": [
      "<class 'tuple'>\n"
     ]
    }
   ],
   "source": [
    "names = ('Ali', 'Shabi', 'Shabi', 200)\n",
    "print(type(names))"
   ]
  },
  {
   "cell_type": "code",
   "execution_count": 26,
   "metadata": {},
   "outputs": [
    {
     "name": "stdout",
     "output_type": "stream",
     "text": [
      "<class 'set'>\n"
     ]
    }
   ],
   "source": [
    "names = {'Ali', 'Shabi', 'Shabi', 200}\n",
    "print(type(names))"
   ]
  },
  {
   "cell_type": "code",
   "execution_count": 28,
   "metadata": {},
   "outputs": [
    {
     "name": "stdout",
     "output_type": "stream",
     "text": [
      "<class 'tuple'>\n"
     ]
    }
   ],
   "source": [
    "#Index     0       1        2      3\n",
    "names = ('Ali', 'Shabi', 'Shabi', 200)\n",
    "#index    -4     -3        -2      -1\n",
    "\n",
    "print(type(names))"
   ]
  },
  {
   "cell_type": "code",
   "execution_count": 31,
   "metadata": {},
   "outputs": [
    {
     "name": "stdout",
     "output_type": "stream",
     "text": [
      "<class 'set'>\n",
      "{200, 'Ali', 'Shabi'}\n"
     ]
    }
   ],
   "source": [
    "#Index     0       1        2      3\n",
    "names = {'Ali', 'Shabi', 'Shabi', 200}\n",
    "#index    -4     -3        -2      -1\n",
    "\n",
    "print(type(names))\n",
    "print(names)"
   ]
  },
  {
   "cell_type": "code",
   "execution_count": 32,
   "metadata": {},
   "outputs": [
    {
     "name": "stdout",
     "output_type": "stream",
     "text": [
      "200\n",
      "[200, 'Ali', 'Shabi']\n"
     ]
    }
   ],
   "source": [
    "names = {'Ali', 'Shabi', 'Shabi', 200}\n",
    "names = list(names)\n",
    "\n",
    "print(names[0])\n",
    "print(names)"
   ]
  },
  {
   "cell_type": "code",
   "execution_count": 36,
   "metadata": {},
   "outputs": [
    {
     "data": {
      "text/plain": [
       "[True, 'pakistan', 20, 3.0]"
      ]
     },
     "execution_count": 36,
     "metadata": {},
     "output_type": "execute_result"
    }
   ],
   "source": [
    "data = {\n",
    "    #key   :  Value\n",
    "    'name': \"Shabi Raza\",\n",
    "    'fname':\"Qasim Shah\",\n",
    "    5      : 'Pakistan',\n",
    "    'a'  : [True,\"pakistan\",20, 3.0]\n",
    "}\n",
    "\n",
    "data['a']"
   ]
  },
  {
   "cell_type": "code",
   "execution_count": null,
   "metadata": {},
   "outputs": [],
   "source": [
    "#data types\n",
    "int, bool, floot, str, list, set, dic"
   ]
  },
  {
   "cell_type": "code",
   "execution_count": 37,
   "metadata": {},
   "outputs": [
    {
     "data": {
      "text/plain": [
       "['__add__',\n",
       " '__class__',\n",
       " '__contains__',\n",
       " '__delattr__',\n",
       " '__dir__',\n",
       " '__doc__',\n",
       " '__eq__',\n",
       " '__format__',\n",
       " '__ge__',\n",
       " '__getattribute__',\n",
       " '__getitem__',\n",
       " '__getnewargs__',\n",
       " '__gt__',\n",
       " '__hash__',\n",
       " '__init__',\n",
       " '__init_subclass__',\n",
       " '__iter__',\n",
       " '__le__',\n",
       " '__len__',\n",
       " '__lt__',\n",
       " '__mod__',\n",
       " '__mul__',\n",
       " '__ne__',\n",
       " '__new__',\n",
       " '__reduce__',\n",
       " '__reduce_ex__',\n",
       " '__repr__',\n",
       " '__rmod__',\n",
       " '__rmul__',\n",
       " '__setattr__',\n",
       " '__sizeof__',\n",
       " '__str__',\n",
       " '__subclasshook__',\n",
       " 'capitalize',\n",
       " 'casefold',\n",
       " 'center',\n",
       " 'count',\n",
       " 'encode',\n",
       " 'endswith',\n",
       " 'expandtabs',\n",
       " 'find',\n",
       " 'format',\n",
       " 'format_map',\n",
       " 'index',\n",
       " 'isalnum',\n",
       " 'isalpha',\n",
       " 'isascii',\n",
       " 'isdecimal',\n",
       " 'isdigit',\n",
       " 'isidentifier',\n",
       " 'islower',\n",
       " 'isnumeric',\n",
       " 'isprintable',\n",
       " 'isspace',\n",
       " 'istitle',\n",
       " 'isupper',\n",
       " 'join',\n",
       " 'ljust',\n",
       " 'lower',\n",
       " 'lstrip',\n",
       " 'maketrans',\n",
       " 'partition',\n",
       " 'replace',\n",
       " 'rfind',\n",
       " 'rindex',\n",
       " 'rjust',\n",
       " 'rpartition',\n",
       " 'rsplit',\n",
       " 'rstrip',\n",
       " 'split',\n",
       " 'splitlines',\n",
       " 'startswith',\n",
       " 'strip',\n",
       " 'swapcase',\n",
       " 'title',\n",
       " 'translate',\n",
       " 'upper',\n",
       " 'zfill']"
      ]
     },
     "execution_count": 37,
     "metadata": {},
     "output_type": "execute_result"
    }
   ],
   "source": [
    "a = \"Shabi Raza\"\n",
    "dir(a)"
   ]
  },
  {
   "cell_type": "markdown",
   "metadata": {},
   "source": [
    "inmemory = Phyical address of data to be changed\n",
    "inline/runtime = On a single line operate it changes values for the time and give result and afterthat that line has the previous original value\n",
    "\n"
   ]
  },
  {
   "cell_type": "code",
   "execution_count": 39,
   "metadata": {},
   "outputs": [
    {
     "name": "stdout",
     "output_type": "stream",
     "text": [
      "SHABI RAZA\n",
      "shabi RaZa\n"
     ]
    }
   ],
   "source": [
    "In line operation\n",
    "\n",
    "a = \"shabi RaZa\"\n",
    "print(a.upper())\n",
    "print(a)"
   ]
  },
  {
   "cell_type": "code",
   "execution_count": 41,
   "metadata": {},
   "outputs": [
    {
     "name": "stdout",
     "output_type": "stream",
     "text": [
      "SHABI RAZA\n"
     ]
    }
   ],
   "source": [
    "#In memory operation\n",
    "\n",
    "a = \"shabi RaZa\"\n",
    "a = (a.upper())\n",
    "print(a)"
   ]
  },
  {
   "cell_type": "code",
   "execution_count": 42,
   "metadata": {},
   "outputs": [
    {
     "name": "stdout",
     "output_type": "stream",
     "text": [
      "Shabi raza\n"
     ]
    }
   ],
   "source": [
    "a = \"shabi RaZa\"\n",
    "a = (a.capitalize())\n",
    "print(a)"
   ]
  },
  {
   "cell_type": "code",
   "execution_count": 46,
   "metadata": {},
   "outputs": [
    {
     "name": "stdout",
     "output_type": "stream",
     "text": [
      "29\n",
      "shabi RaZa         \n",
      "19\n"
     ]
    }
   ],
   "source": [
    "a = \"          shabi RaZa         \"\n",
    "\n",
    "print(len(a))\n",
    "print(a.lstrip())\n",
    "print(len(a.lstrip()))"
   ]
  },
  {
   "cell_type": "code",
   "execution_count": 47,
   "metadata": {},
   "outputs": [
    {
     "name": "stdout",
     "output_type": "stream",
     "text": [
      "29\n",
      "          shabi RaZa\n",
      "20\n"
     ]
    }
   ],
   "source": [
    "a = \"          shabi RaZa         \"\n",
    "\n",
    "print(len(a))\n",
    "print(a.rstrip())\n",
    "print(len(a.rstrip()))"
   ]
  },
  {
   "cell_type": "code",
   "execution_count": 48,
   "metadata": {},
   "outputs": [
    {
     "name": "stdout",
     "output_type": "stream",
     "text": [
      "29\n",
      "shabi RaZa\n",
      "10\n"
     ]
    }
   ],
   "source": [
    "a = \"          shabi RaZa         \"\n",
    "\n",
    "print(len(a))\n",
    "print(a.strip())\n",
    "print(len(a.strip()))"
   ]
  },
  {
   "cell_type": "code",
   "execution_count": 51,
   "metadata": {},
   "outputs": [
    {
     "data": {
      "text/plain": [
       "['shabi', 'RaZa']"
      ]
     },
     "execution_count": 51,
     "metadata": {},
     "output_type": "execute_result"
    }
   ],
   "source": [
    "b = a.split()\n",
    "b\n"
   ]
  },
  {
   "cell_type": "code",
   "execution_count": 54,
   "metadata": {},
   "outputs": [
    {
     "data": {
      "text/plain": [
       "'shabi RaZa'"
      ]
     },
     "execution_count": 54,
     "metadata": {},
     "output_type": "execute_result"
    }
   ],
   "source": [
    "\" \".join(b)"
   ]
  },
  {
   "cell_type": "markdown",
   "metadata": {},
   "source": [
    "## slicing"
   ]
  },
  {
   "cell_type": "code",
   "execution_count": 55,
   "metadata": {},
   "outputs": [
    {
     "data": {
      "text/plain": [
       "'we are pakistani we lover our country!'"
      ]
     },
     "execution_count": 55,
     "metadata": {},
     "output_type": "execute_result"
    }
   ],
   "source": [
    "a = \"we are pakistani we lover our country!\"\n",
    "a"
   ]
  },
  {
   "cell_type": "code",
   "execution_count": 58,
   "metadata": {},
   "outputs": [
    {
     "name": "stdout",
     "output_type": "stream",
     "text": [
      "we are pakistani we lover our country!\n",
      "we are pakistani we lover our country!\n",
      "!yrtnuoc ruo revol ew inatsikap era ew\n",
      "pakistan\n"
     ]
    }
   ],
   "source": [
    "#list[start:end:step]\n",
    "#tuple[start:end:step]\n",
    "#string[start:end:step]\n",
    "\n",
    "print (a)\n",
    "print(a[::])\n",
    "print(a[::-1])\n",
    "print(a[7:15:])\n"
   ]
  },
  {
   "cell_type": "code",
   "execution_count": 59,
   "metadata": {},
   "outputs": [
    {
     "name": "stdout",
     "output_type": "stream",
     "text": [
      "we are pakistani we lover our country!\n",
      "7\n"
     ]
    }
   ],
   "source": [
    "print(a)\n",
    "print(a.index(\"pakistan\"))"
   ]
  },
  {
   "cell_type": "code",
   "execution_count": 60,
   "metadata": {},
   "outputs": [
    {
     "data": {
      "text/plain": [
       "'pakistan'"
      ]
     },
     "execution_count": 60,
     "metadata": {},
     "output_type": "execute_result"
    }
   ],
   "source": [
    "a[a.index(\"pakistan\") : 15]"
   ]
  },
  {
   "cell_type": "markdown",
   "metadata": {},
   "source": [
    "## isnumeric"
   ]
  },
  {
   "cell_type": "code",
   "execution_count": 62,
   "metadata": {},
   "outputs": [
    {
     "ename": "AttributeError",
     "evalue": "type object 'str' has no attribute 'isnmeric'",
     "output_type": "error",
     "traceback": [
      "\u001b[1;31m---------------------------------------------------------------------------\u001b[0m",
      "\u001b[1;31mAttributeError\u001b[0m                            Traceback (most recent call last)",
      "\u001b[1;32m<ipython-input-62-518472d84945>\u001b[0m in \u001b[0;36m<module>\u001b[1;34m()\u001b[0m\n\u001b[1;32m----> 1\u001b[1;33m \u001b[0mstr\u001b[0m\u001b[1;33m.\u001b[0m\u001b[0misnmeric\u001b[0m\u001b[1;33m(\u001b[0m\u001b[1;34m\"5\"\u001b[0m\u001b[1;33m)\u001b[0m\u001b[1;33m\u001b[0m\u001b[0m\n\u001b[0m",
      "\u001b[1;31mAttributeError\u001b[0m: type object 'str' has no attribute 'isnmeric'"
     ]
    }
   ],
   "source": [
    "str.isnmeric(\"5\")"
   ]
  },
  {
   "cell_type": "code",
   "execution_count": 64,
   "metadata": {},
   "outputs": [
    {
     "data": {
      "text/plain": [
       "'232232565644223'"
      ]
     },
     "execution_count": 64,
     "metadata": {},
     "output_type": "execute_result"
    }
   ],
   "source": [
    "a = \"kadkfakdfja232lkafk2lk32-adfasdfkask565644dfljalk2-2-/rf3\"\n",
    "\"\".join([i for i in a if str.isnumeric(i)])"
   ]
  },
  {
   "cell_type": "markdown",
   "metadata": {},
   "source": [
    "### Concatination"
   ]
  },
  {
   "cell_type": "code",
   "execution_count": null,
   "metadata": {},
   "outputs": [],
   "source": [
    "% Sting funcstion to be search\n"
   ]
  },
  {
   "cell_type": "code",
   "execution_count": null,
   "metadata": {},
   "outputs": [],
   "source": [
    " Card = \"\"\"\n",
    " \n",
    " \"\"\""
   ]
  },
  {
   "cell_type": "code",
   "execution_count": null,
   "metadata": {},
   "outputs": [],
   "source": [
    "all dir String all methord jupyter notebook to push to GIthub and share to \n",
    "\n",
    "Faizan and \n",
    "\n",
    "2nd 20 operand with randomly to \n",
    "\n",
    "\n",
    "assignment\n",
    "\n",
    "-All sring data methods\n",
    "-20 oprand with different operators\n",
    "- "
   ]
  },
  {
   "cell_type": "markdown",
   "metadata": {},
   "source": [
    "\n",
    "# Assignment\n",
    "\n",
    "- All sring data methods\n",
    "- 20 oprand with different operators\n"
   ]
  }
 ],
 "metadata": {
  "kernelspec": {
   "display_name": "Python 3",
   "language": "python",
   "name": "python3"
  },
  "language_info": {
   "codemirror_mode": {
    "name": "ipython",
    "version": 3
   },
   "file_extension": ".py",
   "mimetype": "text/x-python",
   "name": "python",
   "nbconvert_exporter": "python",
   "pygments_lexer": "ipython3",
   "version": "3.7.0"
  }
 },
 "nbformat": 4,
 "nbformat_minor": 2
}
