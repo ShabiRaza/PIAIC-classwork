{
 "cells": [
  {
   "cell_type": "markdown",
   "metadata": {},
   "source": []
  },
  {
   "cell_type": "markdown",
   "metadata": {},
   "source": [
    "# Operators \n",
    "    --Arithmetic Operators\n",
    "    --Assignments Operators\n",
    "    --Logical Operators\n",
    "    -Bitwise Operators\n",
    "    -Membership Operators\n",
    "    -identity Operators"
   ]
  },
  {
   "cell_type": "markdown",
   "metadata": {},
   "source": [
    "## Arithmetic Operators"
   ]
  },
  {
   "cell_type": "raw",
   "metadata": {},
   "source": [
    "+ Additioin\n",
    "- Substraction\n",
    "* Multiplication\n",
    "/ Division\n",
    "// Floor Division\n",
    "% Modulus\n",
    "** Exponent or Power\n"
   ]
  },
  {
   "cell_type": "code",
   "execution_count": null,
   "metadata": {},
   "outputs": [],
   "source": [
    "2 + 5"
   ]
  },
  {
   "cell_type": "code",
   "execution_count": null,
   "metadata": {},
   "outputs": [],
   "source": [
    "2.3+5.1"
   ]
  },
  {
   "cell_type": "code",
   "execution_count": null,
   "metadata": {},
   "outputs": [],
   "source": [
    "'A' + 'B'"
   ]
  },
  {
   "cell_type": "code",
   "execution_count": null,
   "metadata": {},
   "outputs": [],
   "source": [
    "[\"Hamza\", \"Junaid\"] + [\"Abid\", \"Shabi\"]\n",
    "list addition"
   ]
  },
  {
   "cell_type": "code",
   "execution_count": null,
   "metadata": {},
   "outputs": [],
   "source": [
    "(\"Hamza\", \"Junaid\") + (\"Abid\", \"Shabi\")\n",
    "#Tuple addition"
   ]
  },
  {
   "cell_type": "code",
   "execution_count": null,
   "metadata": {},
   "outputs": [],
   "source": [
    "{\"A\", \"B\"} + {\"C\", \"D\"}\n",
    "Set addition is not allowed"
   ]
  },
  {
   "cell_type": "code",
   "execution_count": null,
   "metadata": {},
   "outputs": [],
   "source": [
    "# Dictionary addition not allowed\n",
    "{1:\"A\", 2: \"B\"} + {\"C\", \"D\"}"
   ]
  },
  {
   "cell_type": "code",
   "execution_count": null,
   "metadata": {},
   "outputs": [],
   "source": [
    "5-2\n"
   ]
  },
  {
   "cell_type": "code",
   "execution_count": null,
   "metadata": {},
   "outputs": [],
   "source": [
    "3.2-98"
   ]
  },
  {
   "cell_type": "code",
   "execution_count": null,
   "metadata": {},
   "outputs": [],
   "source": [
    "# in list not allowed\n",
    "[4,5] - [3,6]"
   ]
  },
  {
   "cell_type": "code",
   "execution_count": null,
   "metadata": {},
   "outputs": [],
   "source": [
    "#Set dataset allowed\n",
    " \n",
    "{5,6,7} -{6,7}"
   ]
  },
  {
   "cell_type": "code",
   "execution_count": null,
   "metadata": {},
   "outputs": [],
   "source": [
    "# In set String is removed with \"-\"\n",
    "{\"A\", \"B\", \"C\"} -{\"B\"}"
   ]
  },
  {
   "cell_type": "code",
   "execution_count": null,
   "metadata": {},
   "outputs": [],
   "source": [
    "2*4"
   ]
  },
  {
   "cell_type": "code",
   "execution_count": null,
   "metadata": {},
   "outputs": [],
   "source": [
    "2*\"A\""
   ]
  },
  {
   "cell_type": "code",
   "execution_count": null,
   "metadata": {},
   "outputs": [],
   "source": [
    "#in set it give as element\n",
    "[\"A\"] *3"
   ]
  },
  {
   "cell_type": "code",
   "execution_count": null,
   "metadata": {},
   "outputs": [],
   "source": [
    "# In tuple it give as string output\n",
    "(\"A\") *3"
   ]
  },
  {
   "cell_type": "code",
   "execution_count": null,
   "metadata": {},
   "outputs": [],
   "source": [
    "11/3"
   ]
  },
  {
   "cell_type": "code",
   "execution_count": null,
   "metadata": {},
   "outputs": [],
   "source": [
    "# if we want to move to the next line we'll add \\\n",
    "5 + 2 + 3 + 7 + 9 +\\ \n",
    "3+ 9"
   ]
  },
  {
   "cell_type": "code",
   "execution_count": null,
   "metadata": {},
   "outputs": [],
   "source": [
    "#Floor Division (it only took the decimal no and ignore the value after point) if we want an anwer in Int we will add double and and if in float we will only divided by one sign\n",
    "\n",
    "\n",
    "13/4"
   ]
  },
  {
   "cell_type": "code",
   "execution_count": null,
   "metadata": {},
   "outputs": [],
   "source": [
    "11//3"
   ]
  },
  {
   "cell_type": "code",
   "execution_count": null,
   "metadata": {},
   "outputs": [],
   "source": [
    "#Modulus (it is the remaining value after the division )\n",
    "\n",
    "2%3"
   ]
  },
  {
   "cell_type": "code",
   "execution_count": null,
   "metadata": {},
   "outputs": [],
   "source": [
    "#Power or Exponent\n",
    "\n",
    "2 ** 3    # 2x2x2=8"
   ]
  },
  {
   "cell_type": "code",
   "execution_count": null,
   "metadata": {},
   "outputs": [],
   "source": [
    "#not allowed in string\n",
    "\"A\" ** 2"
   ]
  },
  {
   "cell_type": "markdown",
   "metadata": {},
   "source": [
    "## Comparison (Relational) Operators\n",
    "\n",
    "If As the whole logic is comparision or symbolic AI\n"
   ]
  },
  {
   "cell_type": "raw",
   "metadata": {},
   "source": [
    "==\n",
    ">\n",
    "<\n",
    ">=\n",
    "<=\n",
    "!= , <> (comparison)\n"
   ]
  },
  {
   "cell_type": "code",
   "execution_count": null,
   "metadata": {},
   "outputs": [],
   "source": [
    "# it has the logic that the left value is equal to right value\n",
    "2 == 2 "
   ]
  },
  {
   "cell_type": "code",
   "execution_count": null,
   "metadata": {},
   "outputs": [],
   "source": [
    "'A' == 'a'"
   ]
  },
  {
   "cell_type": "code",
   "execution_count": null,
   "metadata": {},
   "outputs": [],
   "source": [
    "5 > 3"
   ]
  },
  {
   "cell_type": "code",
   "execution_count": null,
   "metadata": {},
   "outputs": [],
   "source": [
    "5 > 5"
   ]
  },
  {
   "cell_type": "code",
   "execution_count": null,
   "metadata": {},
   "outputs": [],
   "source": [
    "5 >= 5  # 5 > 4 both has same meaning, it inclue 5 and higher then 5 "
   ]
  },
  {
   "cell_type": "code",
   "execution_count": null,
   "metadata": {},
   "outputs": [],
   "source": [
    "\"A\" > \"B\"  # in order B has higher order value then A"
   ]
  },
  {
   "cell_type": "raw",
   "metadata": {},
   "source": [
    "#ASKI CODE Sequence\n",
    "A = 65   -> Z = 90\n",
    "a = 97   -> z = 122\n",
    "0 = 48   -> 9 = 57"
   ]
  },
  {
   "cell_type": "code",
   "execution_count": null,
   "metadata": {},
   "outputs": [],
   "source": [
    "ord(\"A\")"
   ]
  },
  {
   "cell_type": "code",
   "execution_count": null,
   "metadata": {},
   "outputs": [],
   "source": [
    "ord(\"a\")"
   ]
  },
  {
   "cell_type": "code",
   "execution_count": null,
   "metadata": {},
   "outputs": [],
   "source": [
    "chr(65)"
   ]
  },
  {
   "cell_type": "code",
   "execution_count": null,
   "metadata": {},
   "outputs": [],
   "source": [
    "3 < 4"
   ]
  },
  {
   "cell_type": "code",
   "execution_count": null,
   "metadata": {},
   "outputs": [],
   "source": [
    "3 <= 3"
   ]
  },
  {
   "cell_type": "code",
   "execution_count": null,
   "metadata": {},
   "outputs": [],
   "source": [
    "# Not equal\n",
    "\n",
    "'shabi' != 'Shabi'"
   ]
  },
  {
   "cell_type": "code",
   "execution_count": null,
   "metadata": {},
   "outputs": [],
   "source": [
    "2 != 4"
   ]
  },
  {
   "cell_type": "markdown",
   "metadata": {},
   "source": [
    "## Assignment Operators\n"
   ]
  },
  {
   "cell_type": "code",
   "execution_count": null,
   "metadata": {},
   "outputs": [],
   "source": [
    "# we assign value to any variable, any value can be assign to any physical variable physical address "
   ]
  },
  {
   "cell_type": "raw",
   "metadata": {},
   "source": [
    "=\n",
    "+=\n",
    "-=\n",
    "*=\n",
    "/=\n",
    "//=\n",
    "**=\n",
    "%=\n"
   ]
  },
  {
   "cell_type": "code",
   "execution_count": null,
   "metadata": {},
   "outputs": [],
   "source": [
    "a = 5 "
   ]
  },
  {
   "cell_type": "code",
   "execution_count": null,
   "metadata": {},
   "outputs": [],
   "source": [
    "#in this assign new value and reassign the value to old physical address\n",
    "a = 5\n",
    "a = 6\n",
    "a = 7\n",
    "\n",
    "print(a)"
   ]
  },
  {
   "cell_type": "code",
   "execution_count": null,
   "metadata": {},
   "outputs": [],
   "source": [
    "\n",
    "a = 1  # a\n",
    "a +=2 # 1+2 = 3\n",
    "a +=3 # 3+3= 6\n",
    "a +=4 # 6+4= 10\n",
    "\n",
    "print(a)"
   ]
  },
  {
   "cell_type": "code",
   "execution_count": null,
   "metadata": {},
   "outputs": [],
   "source": [
    "a = 1\n",
    "a = a + 2 # 1=2 = 3 \n"
   ]
  },
  {
   "cell_type": "code",
   "execution_count": null,
   "metadata": {},
   "outputs": [],
   "source": [
    "a = 100 \n",
    "a -= 5\n",
    "a -= 5\n",
    "a -= 10 \n",
    "\n",
    "print(a)"
   ]
  },
  {
   "cell_type": "code",
   "execution_count": null,
   "metadata": {},
   "outputs": [],
   "source": [
    "a = 1\n",
    "a *= 2 # 1*2\n",
    "a *= 3 # 2*3 = 6\n",
    "print(a)"
   ]
  },
  {
   "cell_type": "code",
   "execution_count": null,
   "metadata": {},
   "outputs": [],
   "source": [
    "a = 100\n",
    "a /= 2\n",
    "a /=2\n",
    "print(a)"
   ]
  },
  {
   "cell_type": "code",
   "execution_count": null,
   "metadata": {},
   "outputs": [],
   "source": [
    "a = 100\n",
    "a //= 2\n",
    "a //=2\n",
    "print(a)"
   ]
  },
  {
   "cell_type": "code",
   "execution_count": null,
   "metadata": {},
   "outputs": [],
   "source": [
    "a = 21\n",
    "a %= 5\n",
    "print(a)"
   ]
  },
  {
   "cell_type": "code",
   "execution_count": null,
   "metadata": {},
   "outputs": [],
   "source": [
    "a =1 \n",
    "a **=2\n",
    "a **=3\n",
    "print(a)"
   ]
  },
  {
   "cell_type": "code",
   "execution_count": null,
   "metadata": {},
   "outputs": [],
   "source": [
    "a =2 \n",
    "a **=2\n",
    "a **=3\n",
    "print(a)"
   ]
  },
  {
   "cell_type": "code",
   "execution_count": null,
   "metadata": {},
   "outputs": [],
   "source": [
    "a = \"A\"\n",
    "a += \"B\"\n",
    "print(a)"
   ]
  },
  {
   "cell_type": "code",
   "execution_count": null,
   "metadata": {},
   "outputs": [],
   "source": [
    "a = [1, 2, 3]\n",
    "a += [5, 6]\n",
    "print(a)"
   ]
  },
  {
   "cell_type": "markdown",
   "metadata": {},
   "source": [
    "## Logical Operators"
   ]
  },
  {
   "cell_type": "raw",
   "metadata": {},
   "source": [
    "and  &\n",
    "or |\n",
    "not  # its reverse logic if its ture means give false results"
   ]
  },
  {
   "cell_type": "code",
   "execution_count": null,
   "metadata": {},
   "outputs": [],
   "source": [
    "True and True and True "
   ]
  },
  {
   "cell_type": "code",
   "execution_count": null,
   "metadata": {},
   "outputs": [],
   "source": [
    "True & True & True "
   ]
  },
  {
   "cell_type": "code",
   "execution_count": null,
   "metadata": {},
   "outputs": [],
   "source": [
    "True and False and True "
   ]
  },
  {
   "cell_type": "code",
   "execution_count": null,
   "metadata": {},
   "outputs": [],
   "source": [
    "user = input(\"username:\")\n",
    "password = input(\"password\")\n",
    "\n",
    "user == \"admin\" and password == \"123\"\n",
    "#\"admin\" == \"admin\" and \"123\" == \"123\"\n",
    "#        True       and      True\n",
    "#                   true\n"
   ]
  },
  {
   "cell_type": "code",
   "execution_count": null,
   "metadata": {},
   "outputs": [],
   "source": [
    "user = input(\"username:\")\n",
    "password = input(\"password\")\n",
    "\n",
    "(user == \"admin\") & (password == \"123\")\n",
    "#\"shabi\" == \"admin\" and \"123\" == \"123\"\n",
    "#        True       and      True\n",
    "#                   true\n"
   ]
  },
  {
   "cell_type": "code",
   "execution_count": null,
   "metadata": {},
   "outputs": [],
   "source": [
    "True or True or False or False or True "
   ]
  },
  {
   "cell_type": "code",
   "execution_count": null,
   "metadata": {},
   "outputs": [],
   "source": [
    "True | True | False | False | True "
   ]
  },
  {
   "cell_type": "code",
   "execution_count": null,
   "metadata": {},
   "outputs": [],
   "source": [
    "False | False | False | False | False  "
   ]
  },
  {
   "cell_type": "code",
   "execution_count": null,
   "metadata": {},
   "outputs": [],
   "source": [
    "user = input(\"shabi:\")\n",
    "password = input(\"password\")\n",
    "\n",
    "(user == \"shabi\" or \\\n",
    " user == \"ali\" or \\\n",
    " user == \"azmat\") & (password == \"123\")\n",
    "#\"shabi\" == \"admin\" and \"123\" == \"123\"\n",
    "#        True       and      True\n",
    "#                   true\n"
   ]
  },
  {
   "cell_type": "code",
   "execution_count": null,
   "metadata": {},
   "outputs": [],
   "source": [
    "User = \"shabi\" # shabi, ali, azmat\n",
    "password = 123"
   ]
  },
  {
   "cell_type": "code",
   "execution_count": null,
   "metadata": {},
   "outputs": [],
   "source": [
    "# not\n",
    "\n",
    "user = \"ali\"\n",
    "password = \"123\"\n",
    "\n",
    "not (user==\"ali\" and password==\"123\")"
   ]
  },
  {
   "cell_type": "code",
   "execution_count": null,
   "metadata": {},
   "outputs": [],
   "source": [
    "# not\n",
    "\n",
    "user = \"a\"\n",
    "password = \"123\"\n",
    "\n",
    "not (user==\"ali\" and password==\"123\")"
   ]
  },
  {
   "cell_type": "markdown",
   "metadata": {},
   "source": [
    "## Bitwise Operators "
   ]
  },
  {
   "cell_type": "code",
   "execution_count": null,
   "metadata": {},
   "outputs": [],
   "source": [
    "8,     7,     6,     5,     4,     3,     2,     1,     0\n",
    "2,     2,     2,     2,     2,     2,     2,     2,     2\n",
    "=========================================================\n",
    "256, 128,    64,     32,    16,    8,     4,     2,     1"
   ]
  },
  {
   "cell_type": "code",
   "execution_count": null,
   "metadata": {},
   "outputs": [],
   "source": [
    "1010101\n",
    "1 = \n",
    "0 =\n",
    "1 = \n",
    "0 =\n",
    "1 =\n",
    "0 =\n",
    "1 = \n",
    "\n",
    "Take no from right side\n",
    "11001\n",
    "1 = 1\n",
    "0 = 0 \n",
    "0 = 0\n",
    "1 = 8\n",
    "1 = 16\n",
    "Total sum = 25"
   ]
  },
  {
   "cell_type": "code",
   "execution_count": null,
   "metadata": {},
   "outputs": [],
   "source": [
    "28 = 11100\n",
    "29 = 11101\n",
    "35 = 100011"
   ]
  },
  {
   "cell_type": "raw",
   "metadata": {},
   "source": [
    "& and \n",
    "11100\n",
    "11101\n",
    "------\n",
    "11100"
   ]
  },
  {
   "cell_type": "code",
   "execution_count": null,
   "metadata": {},
   "outputs": [],
   "source": [
    "28 & 29 "
   ]
  },
  {
   "cell_type": "code",
   "execution_count": null,
   "metadata": {},
   "outputs": [],
   "source": [
    "29 & 28"
   ]
  },
  {
   "cell_type": "raw",
   "metadata": {},
   "source": [
    "| or  \n",
    "11100\n",
    "11101\n",
    "------\n",
    "11101"
   ]
  },
  {
   "cell_type": "code",
   "execution_count": null,
   "metadata": {},
   "outputs": [],
   "source": [
    "28 | 29 "
   ]
  },
  {
   "cell_type": "raw",
   "metadata": {},
   "source": [
    "^ \n",
    "11100\n",
    "11101\n",
    "------\n",
    "00001"
   ]
  },
  {
   "cell_type": "code",
   "execution_count": null,
   "metadata": {},
   "outputs": [],
   "source": [
    "28 ^ 29"
   ]
  },
  {
   "cell_type": "code",
   "execution_count": null,
   "metadata": {},
   "outputs": [],
   "source": [
    "~29"
   ]
  },
  {
   "cell_type": "markdown",
   "metadata": {},
   "source": [
    "## Membership Operator"
   ]
  },
  {
   "cell_type": "code",
   "execution_count": null,
   "metadata": {},
   "outputs": [],
   "source": [
    "in \n",
    "not in "
   ]
  },
  {
   "cell_type": "code",
   "execution_count": null,
   "metadata": {},
   "outputs": [],
   "source": [
    "names = [\"ali\", \"shabi\", \"junaid\", \"azmat\"]\n",
    "\n",
    "i = 0\n",
    "while i < len(names):\n",
    "    if names[i]==\"junaid\":\n",
    "        print(True)\n",
    "        break\n",
    "    i +=l"
   ]
  },
  {
   "cell_type": "code",
   "execution_count": null,
   "metadata": {},
   "outputs": [],
   "source": [
    "names = [\"ali\", \"shabi\", \"junaid\", \"azmat\"]\n",
    "\"ali\" in names "
   ]
  },
  {
   "cell_type": "code",
   "execution_count": 4,
   "metadata": {},
   "outputs": [
    {
     "name": "stdout",
     "output_type": "stream",
     "text": [
      "Textsdaf adsf sadf pakistan\n"
     ]
    },
    {
     "data": {
      "text/plain": [
       "True"
      ]
     },
     "execution_count": 4,
     "metadata": {},
     "output_type": "execute_result"
    }
   ],
   "source": [
    "User = input(\"Text\")\n",
    "'pakistan' in User"
   ]
  },
  {
   "cell_type": "code",
   "execution_count": 5,
   "metadata": {},
   "outputs": [
    {
     "name": "stdout",
     "output_type": "stream",
     "text": [
      "asdf adsfkj dasf pakistan\n"
     ]
    },
    {
     "data": {
      "text/plain": [
       "['asdf', 'adsfkj', 'dasf', 'pakistan']"
      ]
     },
     "execution_count": 5,
     "metadata": {},
     "output_type": "execute_result"
    }
   ],
   "source": [
    "user = input ()\n",
    "user = user.split()\n",
    "user\n"
   ]
  },
  {
   "cell_type": "markdown",
   "metadata": {},
   "source": [
    "## Identity Operators"
   ]
  },
  {
   "cell_type": "code",
   "execution_count": null,
   "metadata": {},
   "outputs": [],
   "source": [
    "whenever two objects are same it will give you result, "
   ]
  },
  {
   "cell_type": "code",
   "execution_count": 6,
   "metadata": {},
   "outputs": [
    {
     "name": "stdout",
     "output_type": "stream",
     "text": [
      "False\n",
      "True\n"
     ]
    }
   ],
   "source": [
    "a = '5'\n",
    "b = 5\n",
    "c = a\n",
    "print(a is b)\n",
    "print(a is c)"
   ]
  },
  {
   "cell_type": "code",
   "execution_count": 7,
   "metadata": {},
   "outputs": [
    {
     "name": "stdout",
     "output_type": "stream",
     "text": [
      "1840993009088\n",
      "140737326149504\n",
      "1840993009088\n"
     ]
    }
   ],
   "source": [
    "print(id(a))\n",
    "print(id(b))\n",
    "print(id(c))"
   ]
  },
  {
   "cell_type": "code",
   "execution_count": 8,
   "metadata": {},
   "outputs": [
    {
     "data": {
      "text/plain": [
       "False"
      ]
     },
     "execution_count": 8,
     "metadata": {},
     "output_type": "execute_result"
    }
   ],
   "source": [
    "id (a) == id (b)"
   ]
  },
  {
   "cell_type": "code",
   "execution_count": 9,
   "metadata": {},
   "outputs": [
    {
     "data": {
      "text/plain": [
       "True"
      ]
     },
     "execution_count": 9,
     "metadata": {},
     "output_type": "execute_result"
    }
   ],
   "source": [
    "id (a) == id (c)"
   ]
  },
  {
   "cell_type": "markdown",
   "metadata": {},
   "source": [
    "## Control Flow\n",
    "\n",
    "    -if\n",
    "    -else\n",
    "    -elif"
   ]
  },
  {
   "cell_type": "raw",
   "metadata": {},
   "source": [
    "if logic: \n",
    "    values_if_True #contain all true logic value\n",
    "else: \n",
    "    value_if_False #contain all false logic value"
   ]
  },
  {
   "cell_type": "code",
   "execution_count": 10,
   "metadata": {},
   "outputs": [
    {
     "name": "stdout",
     "output_type": "stream",
     "text": [
      "Pakistan\n"
     ]
    }
   ],
   "source": [
    "if True:\n",
    "    print(\"Pakistan\")\n",
    "else: \n",
    "    print(\"zindabad\")"
   ]
  },
  {
   "cell_type": "code",
   "execution_count": 12,
   "metadata": {},
   "outputs": [
    {
     "name": "stdout",
     "output_type": "stream",
     "text": [
      "zindabad\n"
     ]
    }
   ],
   "source": [
    "if False:\n",
    "    print(\"Pakistan\")\n",
    "    print(\"Pakistan\")\n",
    "    print(\"Pakistan\")\n",
    "else: \n",
    "    print(\"zindabad\")"
   ]
  },
  {
   "cell_type": "code",
   "execution_count": null,
   "metadata": {},
   "outputs": [],
   "source": [
    "if True:\n",
    "    user \n",
    "    "
   ]
  },
  {
   "cell_type": "code",
   "execution_count": null,
   "metadata": {},
   "outputs": [],
   "source": [
    "user = input(\"username:\")\n",
    "password = input(\"password\")\n",
    "\n",
    "user == \"admin\" and password == \"123\"\n",
    "#\"admin\" == \"admin\" and \"123\" == \"123\"\n",
    "#        True       and      True\n",
    "#                   true\n"
   ]
  },
  {
   "cell_type": "code",
   "execution_count": 15,
   "metadata": {},
   "outputs": [
    {
     "name": "stdout",
     "output_type": "stream",
     "text": [
      "userhsabi\n",
      "pass123\n",
      "invalid user\n"
     ]
    }
   ],
   "source": [
    "user = input(\"user\")\n",
    "password = input(\"pass\")\n",
    "\n",
    "if (user ==\"ali\" or user == \"hamza\") and password ==\"123\":\n",
    "    print(\"valid user\")\n",
    "else: print(\"invalid user\")"
   ]
  },
  {
   "cell_type": "code",
   "execution_count": 16,
   "metadata": {},
   "outputs": [
    {
     "name": "stdout",
     "output_type": "stream",
     "text": [
      "userjunaid\n",
      "pass123\n",
      "valid user\n"
     ]
    }
   ],
   "source": [
    "user = input(\"user\")\n",
    "password = input(\"pass\")\n",
    "\n",
    "if (user in ['ali', 'hamza', 'junaid']) and password ==\"123\":\n",
    "    print(\"valid user\")\n",
    "else: print(\"invalid user\")"
   ]
  },
  {
   "cell_type": "code",
   "execution_count": null,
   "metadata": {},
   "outputs": [],
   "source": [
    "lits k methods and attributs to be prepared for the next class"
   ]
  },
  {
   "cell_type": "code",
   "execution_count": null,
   "metadata": {},
   "outputs": [],
   "source": []
  },
  {
   "cell_type": "code",
   "execution_count": null,
   "metadata": {},
   "outputs": [],
   "source": []
  },
  {
   "cell_type": "code",
   "execution_count": null,
   "metadata": {},
   "outputs": [],
   "source": []
  },
  {
   "cell_type": "code",
   "execution_count": null,
   "metadata": {},
   "outputs": [],
   "source": []
  },
  {
   "cell_type": "code",
   "execution_count": null,
   "metadata": {},
   "outputs": [],
   "source": []
  },
  {
   "cell_type": "code",
   "execution_count": null,
   "metadata": {},
   "outputs": [],
   "source": []
  },
  {
   "cell_type": "code",
   "execution_count": null,
   "metadata": {},
   "outputs": [],
   "source": []
  },
  {
   "cell_type": "code",
   "execution_count": null,
   "metadata": {},
   "outputs": [],
   "source": []
  },
  {
   "cell_type": "code",
   "execution_count": null,
   "metadata": {},
   "outputs": [],
   "source": []
  },
  {
   "cell_type": "code",
   "execution_count": null,
   "metadata": {},
   "outputs": [],
   "source": []
  },
  {
   "cell_type": "code",
   "execution_count": null,
   "metadata": {},
   "outputs": [],
   "source": []
  },
  {
   "cell_type": "code",
   "execution_count": null,
   "metadata": {},
   "outputs": [],
   "source": []
  },
  {
   "cell_type": "code",
   "execution_count": null,
   "metadata": {},
   "outputs": [],
   "source": []
  },
  {
   "cell_type": "code",
   "execution_count": null,
   "metadata": {},
   "outputs": [],
   "source": []
  },
  {
   "cell_type": "code",
   "execution_count": null,
   "metadata": {},
   "outputs": [],
   "source": []
  },
  {
   "cell_type": "code",
   "execution_count": null,
   "metadata": {},
   "outputs": [],
   "source": []
  }
 ],
 "metadata": {
  "kernelspec": {
   "display_name": "Python 3",
   "language": "python",
   "name": "python3"
  },
  "language_info": {
   "codemirror_mode": {
    "name": "ipython",
    "version": 3
   },
   "file_extension": ".py",
   "mimetype": "text/x-python",
   "name": "python",
   "nbconvert_exporter": "python",
   "pygments_lexer": "ipython3",
   "version": "3.7.0"
  }
 },
 "nbformat": 4,
 "nbformat_minor": 2
}
